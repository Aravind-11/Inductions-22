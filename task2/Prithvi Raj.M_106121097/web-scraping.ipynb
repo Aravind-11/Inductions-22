{
 "cells": [
  {
   "cell_type": "code",
   "execution_count": null,
   "metadata": {},
   "outputs": [],
   "source": [
    "from bing_image_downloader import downloader\n",
    "\n",
    "downloader.download('iron man', limit=40,  output_dir='avengers_val', timeout=120, verbose=True)\n",
    "downloader.download('captain america', limit=40,  output_dir='avengers_val', timeout=120, verbose=True)\n",
    "downloader.download('hulk', limit=40,  output_dir='avengers_val', timeout=120, verbose=True)\n",
    "downloader.download('thor', limit=40,  output_dir='avengers_val', timeout=120, verbose=True)\n",
    "downloader.download('black widow', limit=40,  output_dir='avengers_val', timeout=120, verbose=True)"
   ]
  },
  {
   "cell_type": "code",
   "execution_count": null,
   "metadata": {},
   "outputs": [],
   "source": [
    "downloader.download('iron man', limit=100,  output_dir='avengers_train', timeout=120, verbose=True)\n",
    "downloader.download('captain america', limit=100,  output_dir='avengers_train', timeout=120, verbose=True)\n",
    "downloader.download('hulk', limit=100,  output_dir='avengers_train', timeout=120, verbose=True)\n",
    "downloader.download('thor', limit=100,  output_dir='avengers_train', timeout=120, verbose=True)\n",
    "downloader.download('black widow', limit=100,  output_dir='avengers_train', timeout=120, verbose=True)"
   ]
  },
  {
   "cell_type": "code",
   "execution_count": null,
   "metadata": {},
   "outputs": [],
   "source": [
    "downloader.download('iron man', limit=20,  output_dir='avengers_test', timeout=120, verbose=True)\n",
    "downloader.download('captain america', limit=20,  output_dir='avengers_test', timeout=120, verbose=True)\n",
    "downloader.download('hulk', limit=20,  output_dir='avengers_test', timeout=120, verbose=True)\n",
    "downloader.download('thor', limit=20,  output_dir='avengers_test', timeout=120, verbose=True)\n",
    "downloader.download('black widow', limit=20,  output_dir='avengers_test', timeout=120, verbose=True)"
   ]
  }
 ],
 "metadata": {
  "language_info": {
   "name": "python"
  },
  "orig_nbformat": 4
 },
 "nbformat": 4,
 "nbformat_minor": 2
}
