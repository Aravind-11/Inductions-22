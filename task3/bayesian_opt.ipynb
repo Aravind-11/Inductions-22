{
 "cells": [
  {
   "cell_type": "code",
   "execution_count": null,
   "id": "f68a9963",
   "metadata": {},
   "outputs": [],
   "source": [
    "import sklearn.gaussian_process as gp\n",
    "\n",
    "\n",
    "def bayesian_optimization(n_iters, sample_loss, xp, yp):\n",
    "\n",
    "\n",
    "  #Arguments:\n",
    "\n",
    "    #n_iters: int.\n",
    "      #Number of iterations to run the algorithm for.\n",
    "    #sample_loss: function.\n",
    "       #Loss function that takes an array of parameters.\n",
    "    #xp: array-like, shape = [n_samples, n_params].\n",
    "      #Array of previously evaluated hyperparameters.\n",
    "    #yp: array-like, shape = [n_samples, 1].\n",
    "      #Array of values of `sample_loss` for the hyperparameterscin `xp`.\n",
    " \n",
    "\n",
    "  # Define the GP\n",
    "    kernel = gp.kernels.Matern()\n",
    "    model = gp.GaussianProcessRegressor(kernel=kernel,\n",
    "                                      alpha=1e-4,\n",
    "                                      n_restarts_optimizer=10,\n",
    "                                      normalize_y=True)\n",
    "    for i in range(n_iters):\n",
    "        model.fit(xp, yp)\n",
    "\n",
    "    # sample_next_hyperparameter is a method that computes the arg\n",
    "    # max of the acquisition function\n",
    "        next_sample = sample_next_hyperparameter(model, yp)\n",
    "\n",
    "    # Evaluate the loss for the new hyperparameters\n",
    "        next_loss = sample_loss(next_sample)\n",
    "\n",
    "    # Update xp and ypfrom sklearn.datasets import make_classification\n",
    "from sklearn.datasets import make_classification\n",
    "    \n",
    "data, target = make_classification(n_samples=2500,\n",
    "                                   n_features=45,\n",
    "                                   n_informative=15,\n",
    "                                   n_redundant=5)\n",
    "from sklearn.model_selection import cross_val_score\n",
    "from sklearn.svm import SVC\n",
    "\n",
    "def sample_loss(params):\n",
    "    C = params[0]\n",
    "    gamma = params[1]\n",
    "\n",
    "  # Sample C and gamma on the log-uniform scale\n",
    "    model = SVC(C=10 ** C, gamma=10 ** gamma, random_state=12345)\n",
    "\n",
    "  # Sample parameters on a log scale\n",
    "    return cross_val_score(model=model,X=data,y=target,scoring='roc_auc',cv=3).mean()"
   ]
  }
 ],
 "metadata": {
  "kernelspec": {
   "display_name": "Python 3 (ipykernel)",
   "language": "python",
   "name": "python3"
  },
  "language_info": {
   "codemirror_mode": {
    "name": "ipython",
    "version": 3
   },
   "file_extension": ".py",
   "mimetype": "text/x-python",
   "name": "python",
   "nbconvert_exporter": "python",
   "pygments_lexer": "ipython3",
   "version": "3.9.7"
  }
 },
 "nbformat": 4,
 "nbformat_minor": 5
}
